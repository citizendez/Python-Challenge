{
 "cells": [
  {
   "cell_type": "code",
   "execution_count": 6,
   "metadata": {},
   "outputs": [],
   "source": [
    "import os\n",
    "import csv"
   ]
  },
  {
   "cell_type": "code",
   "execution_count": 7,
   "metadata": {},
   "outputs": [
    {
     "name": "stdout",
     "output_type": "stream",
     "text": [
      "WWE-Data-2016.csv\n"
     ]
    }
   ],
   "source": [
    "# Path to collect data from the Resources folder\n",
    "csvpath = os.path.join('WWE-Data-2016.csv') \n",
    "#csvpath = \"C:/Users/citiz/source/repos/Python-Challenge/Minis/WrestlingWithFunctions/WWE-Data-2016.csv\"\n",
    "#print(csvpath)"
   ]
  },
  {
   "cell_type": "code",
   "execution_count": 8,
   "metadata": {
    "scrolled": true
   },
   "outputs": [],
   "source": [
    "# Define the function and have it accept the 'wrestlerData' as its sole parameter\n",
    "def wrestler_percentages(wrestlerData):\n",
    "    #Assign variables\n",
    "    name = str(wrestlerData[0])\n",
    "    wins = int(wrestlerData[1])\n",
    "    losses = int(wrestlerData[2])\n",
    "    draws = int(wrestlerData[3])\n",
    "# Find the total number of matches wrestled\n",
    "    total_matches = wins + losses + draws\n",
    "# Find the percentage of matches won\n",
    "    percent_won = (wins/total_matches)*100\n",
    "# Find the percentage of matches lost\n",
    "    percent_lost = (losses/total_matches)*100\n",
    "# Find the percentage of matches drawn\n",
    "    percent_draws = (draws/total_matches)*100\n",
    "#If loss percentage is over 50, determin type of wrestler\n",
    "    if percent_lost > 50:\n",
    "        type_wrestler = \"Jobber\"\n",
    "    else:\n",
    "        type_wrestler = \"Superstar\"\n",
    "# Print out the wrestler's name and their percentage stats\n",
    "    print(f'Stats for {name}')\n",
    "    print(f'Win Percentage str({percent_won})')\n",
    "    print(f'Loss Percentage str({percent_lost})')\n",
    "    print(f'Draw Percentage str({percent_draws})')\n",
    "    print(f'{wrestlerData[0]} is a {type_wrestler}')\n",
    "    \n",
    "#If loss percentage is over 50, determin type of wrestler\n",
    "    if percent_lost > 50:\n",
    "        type_wrestler = \"Jobber\"\n",
    "    else:\n",
    "        type_wrestler = \"Superstar\""
   ]
  },
  {
   "cell_type": "code",
   "execution_count": 9,
   "metadata": {},
   "outputs": [
    {
     "name": "stdout",
     "output_type": "stream",
     "text": [
      "What wrestler do you want to look for? Sami Zayn\n",
      "Stats for Sami Zayn\n",
      "Win Percentage str(63.06818181818182)\n",
      "Loss Percentage str(33.52272727272727)\n",
      "Draw Percentage str(3.4090909090909087)\n",
      "Sami Zayn is a Superstar\n"
     ]
    }
   ],
   "source": [
    "# Read in the CSV file\n",
    "with open(csvpath, 'r') as csvfile:\n",
    "\n",
    "    # Split the data on commas\n",
    "    csvreader = csv.reader(csvfile, delimiter=',')\n",
    "\n",
    "    # Prompt the user for what wrestler they would like to search for\n",
    "    name_to_check = input(\"What wrestler do you want to look for? \")\n",
    "\n",
    "    # Loop through the data\n",
    "    for row in csvreader:\n",
    "\n",
    "        # If the wrestler's name in a row is equal to that which the user input, run the 'print_percentages()' function\n",
    "        if(name_to_check == row[0]):\n",
    "            wrestler_percentages(row)"
   ]
  },
  {
   "cell_type": "code",
   "execution_count": null,
   "metadata": {},
   "outputs": [],
   "source": []
  },
  {
   "cell_type": "code",
   "execution_count": null,
   "metadata": {},
   "outputs": [],
   "source": []
  },
  {
   "cell_type": "code",
   "execution_count": null,
   "metadata": {},
   "outputs": [],
   "source": []
  }
 ],
 "metadata": {
  "kernelspec": {
   "display_name": "Python 3",
   "language": "python",
   "name": "python3"
  },
  "language_info": {
   "codemirror_mode": {
    "name": "ipython",
    "version": 3
   },
   "file_extension": ".py",
   "mimetype": "text/x-python",
   "name": "python",
   "nbconvert_exporter": "python",
   "pygments_lexer": "ipython3",
   "version": "3.8.3"
  }
 },
 "nbformat": 4,
 "nbformat_minor": 2
}
